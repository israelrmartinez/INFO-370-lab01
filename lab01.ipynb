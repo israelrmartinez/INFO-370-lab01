{
 "cells": [
  {
   "cell_type": "markdown",
   "id": "ee230e3d-888e-4cb7-ad45-1f605c62f5eb",
   "metadata": {},
   "source": [
    "# INFO 370 lab01\n",
    "*Name:* Israel Martinez\n",
    "\n",
    "## 1 Lists\n",
    "1. Create a list alphabet of lower case letters (minimum 10 letters). Print your list."
   ]
  },
  {
   "cell_type": "code",
   "execution_count": 71,
   "id": "bd83c2d6-363e-4584-880f-405870e8475c",
   "metadata": {},
   "outputs": [
    {
     "name": "stdout",
     "output_type": "stream",
     "text": [
      "['d', 'g', 'i', 's', 'o', 'p', 'b', 'c', 'n', 'q']\n"
     ]
    }
   ],
   "source": [
    "alphabet = [\"d\", \"g\", \"i\", \"s\", \"o\", \"p\", \"b\", \"c\", \"n\", \"q\"]\n",
    "print(alphabet)"
   ]
  },
  {
   "cell_type": "markdown",
   "id": "d41f31f8-e743-4c81-a5f3-5c3b40df6241",
   "metadata": {},
   "source": [
    "2. use list comprehension to convert your alphabet into upper case. Hint: find out yourself how to convert python strings to upper case."
   ]
  },
  {
   "cell_type": "code",
   "execution_count": 72,
   "id": "05faf879-b1f9-45d8-b763-fde7576eb438",
   "metadata": {},
   "outputs": [
    {
     "name": "stdout",
     "output_type": "stream",
     "text": [
      "['D', 'G', 'I', 'S', 'O', 'P', 'B', 'C', 'N', 'Q']\n"
     ]
    }
   ],
   "source": [
    "alphabet = [letter.upper() for letter in alphabet]\n",
    "print(alphabet)"
   ]
  },
  {
   "cell_type": "markdown",
   "id": "c5e6b0bf-fd36-4810-9be4-8544e4f497d0",
   "metadata": {},
   "source": [
    "3. One can create repeat elements in a list by the repeat operator *, e.g. [\"a\"]*5 will give ['a', 'a',\n",
    "'a', 'a', 'a']. Use the repeat operator and list comprehension to create a nested list\n",
    "[[1], [2, 2], [3, 3, 3], [4, 4, 4, 4], [5, 5, 5, 5, 5]]"
   ]
  },
  {
   "cell_type": "code",
   "execution_count": 118,
   "id": "8848dad7-3643-4897-b9c3-1b27528cd53c",
   "metadata": {},
   "outputs": [
    {
     "name": "stdout",
     "output_type": "stream",
     "text": [
      "[['D'], ['G', 'G'], ['I', 'I', 'I'], ['S', 'S', 'S', 'S'], ['O', 'O', 'O', 'O', 'O'], ['P', 'P', 'P', 'P', 'P', 'P'], ['B', 'B', 'B', 'B', 'B', 'B', 'B'], ['C', 'C', 'C', 'C', 'C', 'C', 'C', 'C'], ['N', 'N', 'N', 'N', 'N', 'N', 'N', 'N', 'N'], ['Q', 'Q', 'Q', 'Q', 'Q', 'Q', 'Q', 'Q', 'Q', 'Q']]\n"
     ]
    }
   ],
   "source": [
    "l = []\n",
    "for i in range(1, 11):\n",
    "    elem = alphabet[i - 1] * i\n",
    "    chars = [c for c in elem]\n",
    "    l.append(chars)\n",
    "print(l)"
   ]
  },
  {
   "cell_type": "markdown",
   "id": "aabdb168-4d9f-43de-ab4c-bbc8cb8340a6",
   "metadata": {},
   "source": [
    "## 2 Text Question\n",
    "In this basic coding lab there is little to explain and comment. But to give you a chance to write text, not\n",
    "code, please answer the following question (at least 2 sentences). Please do it in a markdown cell.\n",
    "1. Why did you choose to take info370? What are the most valuable skills you hope to learn here?\n",
    "We can use your answers to adjust the topics a little bit.\n",
    "\n",
    "I chose to take info370 because I'm in the Informatics major and I want to do the data science track. A skill that I hope to learn here is useful python skills because I've heard it's one of the most popular languages in data science.\n",
    "\n",
    "\n",
    "## Dicts\n",
    "1. Create a dict of country-capital (at least 5 countries/capitals), e.g. Kenya: Nairobi, Cameroon: Yaoundé, ..."
   ]
  },
  {
   "cell_type": "code",
   "execution_count": 87,
   "id": "2797a8e6-9962-4130-9e50-7d574e3d9d09",
   "metadata": {},
   "outputs": [
    {
     "data": {
      "text/plain": [
       "{'El Salvador': 'San Salvador',\n",
       " 'Japan': 'Tokyo',\n",
       " 'France': 'Paris',\n",
       " 'Russia': 'Moscow',\n",
       " 'Philippines': 'Manila'}"
      ]
     },
     "execution_count": 87,
     "metadata": {},
     "output_type": "execute_result"
    }
   ],
   "source": [
    "countryCap = {\"El Salvador\":\"San Salvador\", \"Japan\":\"Tokyo\", \n",
    "              \"France\":\"Paris\", \"Russia\":\"Moscow\", \"Philippines\":\"Manila\"}\n",
    "countryCap"
   ]
  },
  {
   "cell_type": "markdown",
   "id": "18e10401-eb28-4b82-8713-dcaa6518c964",
   "metadata": {},
   "source": [
    "2. Extract all countries from your dict and make list of those. Hint: check out method keys, and the function list"
   ]
  },
  {
   "cell_type": "code",
   "execution_count": 98,
   "id": "e549f33b-79ee-48ba-9971-d924c2f9bba2",
   "metadata": {},
   "outputs": [
    {
     "name": "stdout",
     "output_type": "stream",
     "text": [
      "['El Salvador', 'Japan', 'France', 'Russia', 'Philippines']\n"
     ]
    }
   ],
   "source": [
    "# countries = list(countryCap.keys())\n",
    "countries = [*countryCap]\n",
    "print(countries)"
   ]
  },
  {
   "cell_type": "markdown",
   "id": "90d76f01-a77b-4b2b-8214-847482085883",
   "metadata": {},
   "source": [
    "3. Transform your dict into a capital-country one, e.g. Nairobi: Kenya, Yanoundé: Cameroon, ... Print this dict to show it is good."
   ]
  },
  {
   "cell_type": "code",
   "execution_count": 97,
   "id": "c39474ba-c901-4ec1-a9e4-fbdb79b85b40",
   "metadata": {},
   "outputs": [
    {
     "name": "stdout",
     "output_type": "stream",
     "text": [
      "{'San Salvador': 'El Salvador', 'Tokyo': 'Japan', 'Paris': 'France', 'Moscow': 'Russia', 'Manila': 'Philippines'}\n"
     ]
    }
   ],
   "source": [
    "capCountry = {cap:country for country,cap in countryCap.items()}\n",
    "print(capCountry)"
   ]
  },
  {
   "cell_type": "markdown",
   "id": "a31dde16-0ce0-42c0-aac1-1c796a580865",
   "metadata": {},
   "source": [
    "4. Make a function that achieves all the above: it takes country-capital list as an argument, and returns capital-country list. Demonstrate that it works correctly using the list you did above."
   ]
  },
  {
   "cell_type": "code",
   "execution_count": 99,
   "id": "d0d7aa62-aadc-43eb-a1bb-858556f19877",
   "metadata": {},
   "outputs": [
    {
     "name": "stdout",
     "output_type": "stream",
     "text": [
      "{'San Salvador': 'El Salvador', 'Tokyo': 'Japan', 'Paris': 'France', 'Moscow': 'Russia', 'Manila': 'Philippines'}\n"
     ]
    }
   ],
   "source": [
    "def switchKeys(countryList):\n",
    "    newList = {cap:country for country,cap in countryList.items()}\n",
    "    return newList\n",
    "print(switchKeys(countryCap))"
   ]
  },
  {
   "cell_type": "code",
   "execution_count": null,
   "id": "264ef3f8-4fb2-4624-9caf-54d07fc40034",
   "metadata": {},
   "outputs": [],
   "source": []
  }
 ],
 "metadata": {
  "kernelspec": {
   "display_name": "Python 3",
   "language": "python",
   "name": "python3"
  },
  "language_info": {
   "codemirror_mode": {
    "name": "ipython",
    "version": 3
   },
   "file_extension": ".py",
   "mimetype": "text/x-python",
   "name": "python",
   "nbconvert_exporter": "python",
   "pygments_lexer": "ipython3",
   "version": "3.8.8"
  }
 },
 "nbformat": 4,
 "nbformat_minor": 5
}
